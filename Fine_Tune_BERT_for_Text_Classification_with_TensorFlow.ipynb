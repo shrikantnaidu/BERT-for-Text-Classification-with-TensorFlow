{
 "cells": [
  {
   "cell_type": "markdown",
   "metadata": {
    "id": "zGCJYkQj_Uu2"
   },
   "source": [
    "<h2 align=center> Fine-Tune BERT for Text Classification with TensorFlow</h2>"
   ]
  },
  {
   "cell_type": "markdown",
   "metadata": {
    "id": "4y2m1S6e12il"
   },
   "source": [
    "<div align=\"center\">\n",
    "    <img width=\"512px\" src='https://drive.google.com/uc?id=1fnJTeJs5HUpz7nix-F9E6EZdgUflqyEu' />\n",
    "    <p style=\"text-align: center;color:gray\">Figure 1: BERT Classification Model</p>\n",
    "</div>"
   ]
  },
  {
   "cell_type": "markdown",
   "metadata": {
    "id": "eYYYWqWr_WCC"
   },
   "source": [
    "In this [project](https://www.coursera.org/projects/fine-tune-bert-tensorflow/), you will learn how to fine-tune a BERT model for text classification using TensorFlow and TF-Hub."
   ]
  },
  {
   "cell_type": "markdown",
   "metadata": {
    "id": "5yQG5PCO_WFx"
   },
   "source": [
    "The pretrained BERT model used in this project is [available](https://tfhub.dev/tensorflow/bert_en_uncased_L-12_H-768_A-12/2) on [TensorFlow Hub](https://tfhub.dev/)."
   ]
  },
  {
   "cell_type": "markdown",
   "metadata": {
    "id": "7pKNS21u_WJo"
   },
   "source": [
    "### Learning Objectives"
   ]
  },
  {
   "cell_type": "markdown",
   "metadata": {
    "id": "_3NHSMXv_WMv"
   },
   "source": [
    "By the time you complete this project, you will be able to:\n",
    "\n",
    "- Build TensorFlow Input Pipelines for Text Data with the [`tf.data`](https://www.tensorflow.org/api_docs/python/tf/data) API\n",
    "- Tokenize and Preprocess Text for BERT\n",
    "- Fine-tune BERT for text classification with TensorFlow 2 and [TF Hub](https://tfhub.dev)"
   ]
  },
  {
   "cell_type": "markdown",
   "metadata": {
    "id": "o6BEe-3-AVRQ"
   },
   "source": [
    "### Prerequisites"
   ]
  },
  {
   "cell_type": "markdown",
   "metadata": {
    "id": "Sc9f-8rLAVUS"
   },
   "source": [
    "In order to be successful with this project, it is assumed you are:\n",
    "\n",
    "- Competent in the Python programming language\n",
    "- Familiar with deep learning for Natural Language Processing (NLP)\n",
    "- Familiar with TensorFlow, and its Keras API"
   ]
  },
  {
   "cell_type": "markdown",
   "metadata": {
    "id": "MYXXV5n3Ab-4"
   },
   "source": [
    "### Contents"
   ]
  },
  {
   "cell_type": "markdown",
   "metadata": {
    "id": "XhK-SYGyAjxe"
   },
   "source": [
    "This project/notebook consists of several Tasks.\n",
    "\n",
    "- **[Task 1]()**: Introduction to the Project.\n",
    "- **[Task 2]()**: Setup your TensorFlow and Colab Runtime\n",
    "- **[Task 3]()**: Download and Import the Quora Insincere Questions Dataset\n",
    "- **[Task 4]()**: Create tf.data.Datasets for Training and Evaluation\n",
    "- **[Task 5]()**: Download a Pre-trained BERT Model from TensorFlow Hub\n",
    "- **[Task 6]()**: Tokenize and Preprocess Text for BERT\n",
    "- **[Task 7]()**: Wrap a Python Function into a TensorFlow op for Eager Execution\n",
    "- **[Task 8]()**: Create a TensorFlow Input Pipeline with `tf.data`\n",
    "- **[Task 9]()**: Add a Classification Head to the BERT `hub.KerasLayer`\n",
    "- **[Task 10]()**: Fine-Tune BERT for Text Classification\n",
    "- **[Task 11]()**: Evaluate the BERT Text Classification Model"
   ]
  },
  {
   "cell_type": "markdown",
   "metadata": {
    "id": "IaArqXjRAcBa"
   },
   "source": [
    "## Task 2: Setup your TensorFlow and Colab Runtime."
   ]
  },
  {
   "cell_type": "markdown",
   "metadata": {
    "id": "GDDhjzZ5A4Q_"
   },
   "source": [
    "You will only be able to use the Colab Notebook after you save it to your Google Drive folder. Click on the File menu and select “Save a copy in Drive…\n",
    "\n",
    "![Copy to Drive](https://drive.google.com/uc?id=1CH3eDmuJL8WR0AP1r3UE6sOPuqq8_Wl7)\n"
   ]
  },
  {
   "cell_type": "markdown",
   "metadata": {
    "id": "mpe6GhLuBJWB"
   },
   "source": [
    "### Check GPU Availability\n",
    "\n",
    "Check if your Colab notebook is configured to use Graphical Processing Units (GPUs). If zero GPUs are available, check if the Colab notebook is configured to use GPUs (Menu > Runtime > Change Runtime Type).\n",
    "\n",
    "![Hardware Accelerator Settings](https://drive.google.com/uc?id=1qrihuuMtvzXJHiRV8M7RngbxFYipXKQx)\n"
   ]
  },
  {
   "cell_type": "code",
   "execution_count": 1,
   "metadata": {
    "colab": {
     "base_uri": "https://localhost:8080/"
    },
    "id": "8V9c8vzSL3aj",
    "outputId": "9a292549-bb8a-48b6-e292-70b968207909"
   },
   "outputs": [
    {
     "name": "stdout",
     "output_type": "stream",
     "text": [
      "Fri Jul 23 13:55:09 2021       \n",
      "+-----------------------------------------------------------------------------+\n",
      "| NVIDIA-SMI 470.42.01    Driver Version: 460.32.03    CUDA Version: 11.2     |\n",
      "|-------------------------------+----------------------+----------------------+\n",
      "| GPU  Name        Persistence-M| Bus-Id        Disp.A | Volatile Uncorr. ECC |\n",
      "| Fan  Temp  Perf  Pwr:Usage/Cap|         Memory-Usage | GPU-Util  Compute M. |\n",
      "|                               |                      |               MIG M. |\n",
      "|===============================+======================+======================|\n",
      "|   0  Tesla T4            Off  | 00000000:00:04.0 Off |                    0 |\n",
      "| N/A   60C    P8    11W /  70W |      0MiB / 15109MiB |      0%      Default |\n",
      "|                               |                      |                  N/A |\n",
      "+-------------------------------+----------------------+----------------------+\n",
      "                                                                               \n",
      "+-----------------------------------------------------------------------------+\n",
      "| Processes:                                                                  |\n",
      "|  GPU   GI   CI        PID   Type   Process name                  GPU Memory |\n",
      "|        ID   ID                                                   Usage      |\n",
      "|=============================================================================|\n",
      "|  No running processes found                                                 |\n",
      "+-----------------------------------------------------------------------------+\n"
     ]
    }
   ],
   "source": [
    "!nvidia-smi"
   ]
  },
  {
   "cell_type": "markdown",
   "metadata": {
    "id": "Obch3rAuBVf0"
   },
   "source": [
    "### Install TensorFlow and TensorFlow Model Garden"
   ]
  },
  {
   "cell_type": "code",
   "execution_count": 2,
   "metadata": {
    "colab": {
     "base_uri": "https://localhost:8080/"
    },
    "id": "bUQEY3dFB0jX",
    "outputId": "3f5a6b6f-19d4-4699-f6cb-150ae8fbfb9e"
   },
   "outputs": [
    {
     "name": "stdout",
     "output_type": "stream",
     "text": [
      "2.5.0\n"
     ]
    }
   ],
   "source": [
    "import tensorflow as tf\n",
    "print(tf.version.VERSION)"
   ]
  },
  {
   "cell_type": "code",
   "execution_count": 3,
   "metadata": {
    "colab": {
     "base_uri": "https://localhost:8080/"
    },
    "id": "aU3YLZ1TYKUt",
    "outputId": "6bc21d8c-9b78-48e2-eb0d-f2c04f02cbaa"
   },
   "outputs": [
    {
     "name": "stdout",
     "output_type": "stream",
     "text": [
      "\u001b[K     |████████████████████████████████| 320.4 MB 47 kB/s \n",
      "\u001b[K     |████████████████████████████████| 20.1 MB 131 kB/s \n",
      "\u001b[K     |████████████████████████████████| 2.9 MB 51.4 MB/s \n",
      "\u001b[K     |████████████████████████████████| 459 kB 63.8 MB/s \n",
      "\u001b[31mERROR: pip's dependency resolver does not currently take into account all the packages that are installed. This behaviour is the source of the following dependency conflicts.\n",
      "datascience 0.10.6 requires folium==0.2.1, but you have folium 0.8.3 which is incompatible.\n",
      "albumentations 0.1.12 requires imgaug<0.2.7,>=0.2.5, but you have imgaug 0.2.9 which is incompatible.\u001b[0m\n",
      "\u001b[?25h"
     ]
    }
   ],
   "source": [
    "!pip install -q tensorflow==2.3.0"
   ]
  },
  {
   "cell_type": "code",
   "execution_count": 4,
   "metadata": {
    "colab": {
     "base_uri": "https://localhost:8080/"
    },
    "id": "AFRTC-zwUy6D",
    "outputId": "29be3df1-41de-4c3a-cb96-2d5e454fb273"
   },
   "outputs": [
    {
     "name": "stdout",
     "output_type": "stream",
     "text": [
      "Cloning into 'models'...\n",
      "remote: Enumerating objects: 2650, done.\u001b[K\n",
      "remote: Counting objects: 100% (2650/2650), done.\u001b[K\n",
      "remote: Compressing objects: 100% (2311/2311), done.\u001b[K\n",
      "remote: Total 2650 (delta 506), reused 1386 (delta 306), pack-reused 0\u001b[K\n",
      "Receiving objects: 100% (2650/2650), 34.02 MiB | 31.49 MiB/s, done.\n",
      "Resolving deltas: 100% (506/506), done.\n",
      "Note: checking out '400d68abbccda2f0f6609e3a924467718b144233'.\n",
      "\n",
      "You are in 'detached HEAD' state. You can look around, make experimental\n",
      "changes and commit them, and you can discard any commits you make in this\n",
      "state without impacting any branches by performing another checkout.\n",
      "\n",
      "If you want to create a new branch to retain commits you create, you may\n",
      "do so (now or later) by using -b with the checkout command again. Example:\n",
      "\n",
      "  git checkout -b <new-branch-name>\n",
      "\n"
     ]
    }
   ],
   "source": [
    "!git clone --depth 1 -b v2.3.0 https://github.com/tensorflow/models.git"
   ]
  },
  {
   "cell_type": "code",
   "execution_count": 5,
   "metadata": {
    "colab": {
     "base_uri": "https://localhost:8080/"
    },
    "id": "3H2G0571zLLs",
    "outputId": "8efcc457-3c03-421e-bf8c-bba5fbd4669b"
   },
   "outputs": [
    {
     "name": "stdout",
     "output_type": "stream",
     "text": [
      "\u001b[K     |████████████████████████████████| 7.1 MB 7.4 MB/s \n",
      "\u001b[K     |████████████████████████████████| 195 kB 44.8 MB/s \n",
      "\u001b[K     |████████████████████████████████| 15.7 MB 75 kB/s \n",
      "\u001b[K     |████████████████████████████████| 10.8 MB 48.9 MB/s \n",
      "\u001b[K     |████████████████████████████████| 296 kB 61.9 MB/s \n",
      "\u001b[K     |████████████████████████████████| 99 kB 12.6 MB/s \n",
      "\u001b[K     |████████████████████████████████| 28.5 MB 33 kB/s \n",
      "\u001b[K     |████████████████████████████████| 211 kB 67.3 MB/s \n",
      "\u001b[K     |████████████████████████████████| 3.9 MB 53.5 MB/s \n",
      "\u001b[K     |████████████████████████████████| 679 kB 51.5 MB/s \n",
      "\u001b[K     |████████████████████████████████| 352 kB 41.2 MB/s \n",
      "\u001b[K     |████████████████████████████████| 1.2 MB 55.6 MB/s \n",
      "\u001b[K     |████████████████████████████████| 2.0 MB 55.3 MB/s \n",
      "\u001b[K     |████████████████████████████████| 10.3 MB 53.9 MB/s \n",
      "\u001b[K     |████████████████████████████████| 37.1 MB 48 kB/s \n",
      "\u001b[K     |████████████████████████████████| 636 kB 64.8 MB/s \n",
      "\u001b[K     |████████████████████████████████| 3.0 MB 27.1 MB/s \n",
      "\u001b[K     |████████████████████████████████| 42 kB 1.8 MB/s \n",
      "\u001b[K     |████████████████████████████████| 93 kB 1.9 MB/s \n",
      "\u001b[K     |████████████████████████████████| 4.3 MB 24.7 MB/s \n",
      "\u001b[K     |████████████████████████████████| 75 kB 5.6 MB/s \n",
      "\u001b[?25h  Building wheel for py-cpuinfo (setup.py) ... \u001b[?25l\u001b[?25hdone\n",
      "\u001b[31mERROR: pip's dependency resolver does not currently take into account all the packages that are installed. This behaviour is the source of the following dependency conflicts.\n",
      "tensorflow 2.3.0 requires numpy<1.19.0,>=1.16.0, but you have numpy 1.21.1 which is incompatible.\n",
      "tensorflow 2.3.0 requires scipy==1.4.1, but you have scipy 1.7.0 which is incompatible.\n",
      "pandas-gbq 0.13.3 requires google-cloud-bigquery[bqstorage,pandas]<2.0.0dev,>=1.11.1, but you have google-cloud-bigquery 2.22.1 which is incompatible.\n",
      "google-colab 1.0.0 requires pandas~=1.1.0; python_version >= \"3.0\", but you have pandas 1.3.0 which is incompatible.\n",
      "google-colab 1.0.0 requires six~=1.15.0, but you have six 1.16.0 which is incompatible.\n",
      "google-cloud-storage 1.18.1 requires google-resumable-media<0.5.0dev,>=0.3.1, but you have google-resumable-media 1.3.1 which is incompatible.\n",
      "earthengine-api 0.1.272 requires google-api-python-client<2,>=1.12.1, but you have google-api-python-client 2.14.0 which is incompatible.\n",
      "datascience 0.10.6 requires folium==0.2.1, but you have folium 0.8.3 which is incompatible.\n",
      "albumentations 0.1.12 requires imgaug<0.2.7,>=0.2.5, but you have imgaug 0.2.9 which is incompatible.\u001b[0m\n"
     ]
    }
   ],
   "source": [
    "# install requirements to use tensorflow/models repository\n",
    "!pip install -Uqr models/official/requirements.txt\n",
    "# you may have to restart the runtime afterwards"
   ]
  },
  {
   "cell_type": "markdown",
   "metadata": {
    "id": "GVjksk4yCXur"
   },
   "source": [
    "## Restart the Runtime\n",
    "\n",
    "**Note** \n",
    "After installing the required Python packages, you'll need to restart the Colab Runtime Engine (Menu > Runtime > Restart runtime...)\n",
    "\n",
    "![Restart of the Colab Runtime Engine](https://drive.google.com/uc?id=1xnjAy2sxIymKhydkqb0RKzgVK9rh3teH)"
   ]
  },
  {
   "cell_type": "markdown",
   "metadata": {
    "id": "IMsEoT3Fg4Wg"
   },
   "source": [
    "## Task 3: Download and Import the Quora Insincere Questions Dataset"
   ]
  },
  {
   "cell_type": "code",
   "execution_count": 1,
   "metadata": {
    "id": "GmqEylyFYTdP"
   },
   "outputs": [],
   "source": [
    "import numpy as np\n",
    "import tensorflow as tf\n",
    "import tensorflow_hub as hub\n",
    "import sys\n",
    "sys.path.append('models')\n",
    "from official.nlp.data import classifier_data_lib\n",
    "from official.nlp.bert import tokenization\n",
    "from official.nlp import optimization"
   ]
  },
  {
   "cell_type": "code",
   "execution_count": 2,
   "metadata": {
    "colab": {
     "base_uri": "https://localhost:8080/"
    },
    "id": "ZuX1lB8pPJ-W",
    "outputId": "a31970dc-f1b3-430f-bc6a-482e290ec7cb"
   },
   "outputs": [
    {
     "name": "stdout",
     "output_type": "stream",
     "text": [
      "TF Version:  2.3.0\n",
      "Eager mode:  True\n",
      "Hub version:  0.12.0\n",
      "GPU is available\n"
     ]
    }
   ],
   "source": [
    "print(\"TF Version: \", tf.__version__)\n",
    "print(\"Eager mode: \", tf.executing_eagerly())\n",
    "print(\"Hub version: \", hub.__version__)\n",
    "print(\"GPU is\", \"available\" if tf.config.experimental.list_physical_devices(\"GPU\") else \"NOT AVAILABLE\")"
   ]
  },
  {
   "cell_type": "markdown",
   "metadata": {
    "id": "QtbwpWgyEZg7"
   },
   "source": [
    "A downloadable copy of the [Quora Insincere Questions Classification data](https://www.kaggle.com/c/quora-insincere-questions-classification/data) can be found [https://archive.org/download/fine-tune-bert-tensorflow-train.csv/train.csv.zip](https://archive.org/download/fine-tune-bert-tensorflow-train.csv/train.csv.zip). Decompress and read the data into a pandas DataFrame."
   ]
  },
  {
   "cell_type": "code",
   "execution_count": 3,
   "metadata": {
    "colab": {
     "base_uri": "https://localhost:8080/"
    },
    "id": "0nI-9itVwCCQ",
    "outputId": "58eeac0f-8f71-433b-a97f-c6ca815bc7d3"
   },
   "outputs": [
    {
     "data": {
      "text/plain": [
       "(1306122, 3)"
      ]
     },
     "execution_count": 3,
     "metadata": {
      "tags": []
     },
     "output_type": "execute_result"
    }
   ],
   "source": [
    "import numpy as np\n",
    "import pandas as pd\n",
    "from sklearn.model_selection import train_test_split\n",
    "\n",
    "df = pd.read_csv('https://archive.org/download/fine-tune-bert-tensorflow-train.csv/train.csv.zip',compression='zip',low_memory=False)\n",
    "df.shape"
   ]
  },
  {
   "cell_type": "code",
   "execution_count": 4,
   "metadata": {
    "colab": {
     "base_uri": "https://localhost:8080/",
     "height": 665
    },
    "id": "yeHE98KiMvDd",
    "outputId": "629bc5c4-b39f-4fea-dcf3-ec48fb10ee74"
   },
   "outputs": [
    {
     "data": {
      "text/html": [
       "<div>\n",
       "<style scoped>\n",
       "    .dataframe tbody tr th:only-of-type {\n",
       "        vertical-align: middle;\n",
       "    }\n",
       "\n",
       "    .dataframe tbody tr th {\n",
       "        vertical-align: top;\n",
       "    }\n",
       "\n",
       "    .dataframe thead th {\n",
       "        text-align: right;\n",
       "    }\n",
       "</style>\n",
       "<table border=\"1\" class=\"dataframe\">\n",
       "  <thead>\n",
       "    <tr style=\"text-align: right;\">\n",
       "      <th></th>\n",
       "      <th>qid</th>\n",
       "      <th>question_text</th>\n",
       "      <th>target</th>\n",
       "    </tr>\n",
       "  </thead>\n",
       "  <tbody>\n",
       "    <tr>\n",
       "      <th>1306102</th>\n",
       "      <td>ffff3778790af9baae76</td>\n",
       "      <td>What steps can I take to live a normal life if...</td>\n",
       "      <td>0</td>\n",
       "    </tr>\n",
       "    <tr>\n",
       "      <th>1306103</th>\n",
       "      <td>ffff3f0a2449ffe4b9ff</td>\n",
       "      <td>Isn't Trump right after all? Why should the US...</td>\n",
       "      <td>1</td>\n",
       "    </tr>\n",
       "    <tr>\n",
       "      <th>1306104</th>\n",
       "      <td>ffff41393389d4206066</td>\n",
       "      <td>Is 33 too late for a career in creative advert...</td>\n",
       "      <td>0</td>\n",
       "    </tr>\n",
       "    <tr>\n",
       "      <th>1306105</th>\n",
       "      <td>ffff42493fc203cd9532</td>\n",
       "      <td>What is difference between the filteration wor...</td>\n",
       "      <td>0</td>\n",
       "    </tr>\n",
       "    <tr>\n",
       "      <th>1306106</th>\n",
       "      <td>ffff48dd47bee89fff79</td>\n",
       "      <td>If the universe \"popped\" into existence from n...</td>\n",
       "      <td>0</td>\n",
       "    </tr>\n",
       "    <tr>\n",
       "      <th>1306107</th>\n",
       "      <td>ffff5fd051a032f32a39</td>\n",
       "      <td>How does a shared service technology team meas...</td>\n",
       "      <td>0</td>\n",
       "    </tr>\n",
       "    <tr>\n",
       "      <th>1306108</th>\n",
       "      <td>ffff6d528040d3888b93</td>\n",
       "      <td>How is DSATM civil engineering?</td>\n",
       "      <td>0</td>\n",
       "    </tr>\n",
       "    <tr>\n",
       "      <th>1306109</th>\n",
       "      <td>ffff8776cd30cdc8d7f8</td>\n",
       "      <td>Do you know any problem that depends solely on...</td>\n",
       "      <td>0</td>\n",
       "    </tr>\n",
       "    <tr>\n",
       "      <th>1306110</th>\n",
       "      <td>ffff94d427ade3716cd1</td>\n",
       "      <td>What are some comic ideas for you Tube videos ...</td>\n",
       "      <td>0</td>\n",
       "    </tr>\n",
       "    <tr>\n",
       "      <th>1306111</th>\n",
       "      <td>ffffa382c58368071dc9</td>\n",
       "      <td>If you had $10 million of Bitcoin, could you s...</td>\n",
       "      <td>0</td>\n",
       "    </tr>\n",
       "    <tr>\n",
       "      <th>1306112</th>\n",
       "      <td>ffffa5b0fa76431c063f</td>\n",
       "      <td>Are you ashamed of being an Indian?</td>\n",
       "      <td>1</td>\n",
       "    </tr>\n",
       "    <tr>\n",
       "      <th>1306113</th>\n",
       "      <td>ffffae5dbda3dc9e9771</td>\n",
       "      <td>What are the methods to determine fossil ages ...</td>\n",
       "      <td>0</td>\n",
       "    </tr>\n",
       "    <tr>\n",
       "      <th>1306114</th>\n",
       "      <td>ffffba7c4888798571c1</td>\n",
       "      <td>What is your story today?</td>\n",
       "      <td>0</td>\n",
       "    </tr>\n",
       "    <tr>\n",
       "      <th>1306115</th>\n",
       "      <td>ffffc0c7158658a06fd9</td>\n",
       "      <td>How do I consume 150 gms protein daily both ve...</td>\n",
       "      <td>0</td>\n",
       "    </tr>\n",
       "    <tr>\n",
       "      <th>1306116</th>\n",
       "      <td>ffffc404da586ac5a08f</td>\n",
       "      <td>What are the good career options for a msc che...</td>\n",
       "      <td>0</td>\n",
       "    </tr>\n",
       "    <tr>\n",
       "      <th>1306117</th>\n",
       "      <td>ffffcc4e2331aaf1e41e</td>\n",
       "      <td>What other technical skills do you need as a c...</td>\n",
       "      <td>0</td>\n",
       "    </tr>\n",
       "    <tr>\n",
       "      <th>1306118</th>\n",
       "      <td>ffffd431801e5a2f4861</td>\n",
       "      <td>Does MS in ECE have good job prospects in USA ...</td>\n",
       "      <td>0</td>\n",
       "    </tr>\n",
       "    <tr>\n",
       "      <th>1306119</th>\n",
       "      <td>ffffd48fb36b63db010c</td>\n",
       "      <td>Is foam insulation toxic?</td>\n",
       "      <td>0</td>\n",
       "    </tr>\n",
       "    <tr>\n",
       "      <th>1306120</th>\n",
       "      <td>ffffec519fa37cf60c78</td>\n",
       "      <td>How can one start a research project based on ...</td>\n",
       "      <td>0</td>\n",
       "    </tr>\n",
       "    <tr>\n",
       "      <th>1306121</th>\n",
       "      <td>ffffed09fedb5088744a</td>\n",
       "      <td>Who wins in a battle between a Wolverine and a...</td>\n",
       "      <td>0</td>\n",
       "    </tr>\n",
       "  </tbody>\n",
       "</table>\n",
       "</div>"
      ],
      "text/plain": [
       "                          qid  ... target\n",
       "1306102  ffff3778790af9baae76  ...      0\n",
       "1306103  ffff3f0a2449ffe4b9ff  ...      1\n",
       "1306104  ffff41393389d4206066  ...      0\n",
       "1306105  ffff42493fc203cd9532  ...      0\n",
       "1306106  ffff48dd47bee89fff79  ...      0\n",
       "1306107  ffff5fd051a032f32a39  ...      0\n",
       "1306108  ffff6d528040d3888b93  ...      0\n",
       "1306109  ffff8776cd30cdc8d7f8  ...      0\n",
       "1306110  ffff94d427ade3716cd1  ...      0\n",
       "1306111  ffffa382c58368071dc9  ...      0\n",
       "1306112  ffffa5b0fa76431c063f  ...      1\n",
       "1306113  ffffae5dbda3dc9e9771  ...      0\n",
       "1306114  ffffba7c4888798571c1  ...      0\n",
       "1306115  ffffc0c7158658a06fd9  ...      0\n",
       "1306116  ffffc404da586ac5a08f  ...      0\n",
       "1306117  ffffcc4e2331aaf1e41e  ...      0\n",
       "1306118  ffffd431801e5a2f4861  ...      0\n",
       "1306119  ffffd48fb36b63db010c  ...      0\n",
       "1306120  ffffec519fa37cf60c78  ...      0\n",
       "1306121  ffffed09fedb5088744a  ...      0\n",
       "\n",
       "[20 rows x 3 columns]"
      ]
     },
     "execution_count": 4,
     "metadata": {
      "tags": []
     },
     "output_type": "execute_result"
    }
   ],
   "source": [
    "df.tail(20)"
   ]
  },
  {
   "cell_type": "code",
   "execution_count": 5,
   "metadata": {
    "colab": {
     "base_uri": "https://localhost:8080/",
     "height": 298
    },
    "id": "leRFRWJMocVa",
    "outputId": "ae4e14e5-0fb0-4900-f789-1b9c1612809e"
   },
   "outputs": [
    {
     "data": {
      "text/plain": [
       "<AxesSubplot:title={'center':'Target Distribution'}, ylabel='Frequency'>"
      ]
     },
     "execution_count": 5,
     "metadata": {
      "tags": []
     },
     "output_type": "execute_result"
    },
    {
     "data": {
      "image/png": "[encoded data removed]",
      "text/plain": [
       "<Figure size 432x288 with 1 Axes>"
      ]
     },
     "metadata": {
      "needs_background": "light",
      "tags": []
     },
     "output_type": "display_data"
    }
   ],
   "source": [
    "df.target.plot(kind='hist',title='Target Distribution')"
   ]
  },
  {
   "cell_type": "markdown",
   "metadata": {
    "id": "ELjswHcFHfp3"
   },
   "source": [
    "## Task 4: Create tf.data.Datasets for Training and Evaluation"
   ]
  },
  {
   "cell_type": "code",
   "execution_count": 6,
   "metadata": {
    "colab": {
     "base_uri": "https://localhost:8080/"
    },
    "id": "fScULIGPwuWk",
    "outputId": "411ba985-b382-482c-f08c-401c1bd0af31"
   },
   "outputs": [
    {
     "data": {
      "text/plain": [
       "((9795, 3), (972, 3))"
      ]
     },
     "execution_count": 6,
     "metadata": {
      "tags": []
     },
     "output_type": "execute_result"
    }
   ],
   "source": [
    "train_df,remaining = train_test_split(df,random_state=42,train_size=0.0075,stratify=df.target.values)\n",
    "valid_df,_ = train_test_split(remaining,random_state=42,train_size=0.00075,stratify=remaining.target.values)\n",
    "train_df.shape,valid_df.shape"
   ]
  },
  {
   "cell_type": "code",
   "execution_count": 7,
   "metadata": {
    "colab": {
     "base_uri": "https://localhost:8080/"
    },
    "id": "qQYMGT5_qLPX",
    "outputId": "18f8820d-4e13-4d3b-a64e-c3e4d568db7c"
   },
   "outputs": [
    {
     "name": "stdout",
     "output_type": "stream",
     "text": [
      "tf.Tensor(b'Why are unhealthy relationships so desirable?', shape=(), dtype=string)\n",
      "tf.Tensor(0, shape=(), dtype=int64)\n"
     ]
    }
   ],
   "source": [
    "with tf.device('/cpu:0'):\n",
    "  train_data = tf.data.Dataset.from_tensor_slices((train_df.question_text.values, train_df.target.values))\n",
    "  valid_data = tf.data.Dataset.from_tensor_slices((valid_df.question_text.values, valid_df.target.values))\n",
    "\n",
    "  for text, label in train_data.take(1):\n",
    "    print(text)\n",
    "    print(label)"
   ]
  },
  {
   "cell_type": "markdown",
   "metadata": {
    "id": "e2-ReN88Hvy_"
   },
   "source": [
    "## Task 5: Download a Pre-trained BERT Model from TensorFlow Hub"
   ]
  },
  {
   "cell_type": "code",
   "execution_count": 8,
   "metadata": {
    "id": "EMb5M86b4-BU"
   },
   "outputs": [],
   "source": [
    "\"\"\"\n",
    "Each line of the dataset is composed of the review text and its label\n",
    "- Data preprocessing consists of transforming text to BERT input features:\n",
    "input_word_ids, input_mask, segment_ids\n",
    "- In the process, tokenizing the text is done with the provided BERT model tokenizer\n",
    "\"\"\"\n",
    "\n",
    "label_list = [0, 1] # Label categories\n",
    "max_seq_length = 128 # maximum length of (token) input sequences\n",
    "train_batch_size = 32\n",
    "\n",
    "# Get BERT layer and tokenizer:\n",
    "# More details here: https://tfhub.dev/tensorflow/bert_en_uncased_L-12_H-768_A-12/2\n",
    "bert_layer = hub.KerasLayer(\"https://tfhub.dev/tensorflow/bert_en_uncased_L-12_H-768_A-12/2\",\n",
    "                            trainable=True)\n",
    "vocab_file = bert_layer.resolved_object.vocab_file.asset_path.numpy()\n",
    "do_lower_case = bert_layer.resolved_object.do_lower_case.numpy()\n",
    "tokenizer = tokenization.FullTokenizer(vocab_file, do_lower_case)"
   ]
  },
  {
   "cell_type": "code",
   "execution_count": 9,
   "metadata": {
    "colab": {
     "base_uri": "https://localhost:8080/"
    },
    "id": "wEUezMK-zkkI",
    "outputId": "0fb77a34-0efe-4b1e-9d1b-1edf831954a8"
   },
   "outputs": [
    {
     "data": {
      "text/plain": [
       "['hi', '##,', 'how', 'are', 'you', 'doing', '##?']"
      ]
     },
     "execution_count": 9,
     "metadata": {
      "tags": []
     },
     "output_type": "execute_result"
    }
   ],
   "source": [
    "tokenizer.wordpiece_tokenizer.tokenize('hi, how are you doing?')"
   ]
  },
  {
   "cell_type": "code",
   "execution_count": 10,
   "metadata": {
    "colab": {
     "base_uri": "https://localhost:8080/"
    },
    "id": "5AFsmTO5JSmc",
    "outputId": "a1a40cea-2c7d-4b90-ab79-2236a56fe6f5"
   },
   "outputs": [
    {
     "data": {
      "text/plain": [
       "[7632, 29623, 2129, 2024, 2017, 2725, 29632]"
      ]
     },
     "execution_count": 10,
     "metadata": {
      "tags": []
     },
     "output_type": "execute_result"
    }
   ],
   "source": [
    "tokenizer.convert_tokens_to_ids(tokenizer.wordpiece_tokenizer.tokenize('hi, how are you doing?'))"
   ]
  },
  {
   "cell_type": "markdown",
   "metadata": {
    "id": "9QinzNq6OsP1"
   },
   "source": [
    "## Task 6: Tokenize and Preprocess Text for BERT"
   ]
  },
  {
   "cell_type": "markdown",
   "metadata": {
    "id": "3FTqJ698zZ1e"
   },
   "source": [
    "<div align=\"center\">\n",
    "    <img width=\"512px\" src='https://drive.google.com/uc?id=1-SpKFELnEvBMBqO7h3iypo8q9uUUo96P' />\n",
    "    <p style=\"text-align: center;color:gray\">Figure 2: BERT Tokenizer</p>\n",
    "</div>"
   ]
  },
  {
   "cell_type": "markdown",
   "metadata": {
    "id": "cWYkggYe6HZc"
   },
   "source": [
    "We'll need to transform our data into a format BERT understands. This involves two steps. First, we create InputExamples using `classifier_data_lib`'s constructor `InputExample` provided in the BERT library."
   ]
  },
  {
   "cell_type": "code",
   "execution_count": 11,
   "metadata": {
    "id": "m-21A5aNJM0W"
   },
   "outputs": [],
   "source": [
    "# This provides a function to convert row to input features and label\n",
    "\n",
    "def to_feature(text, label, label_list=label_list, max_seq_length=max_seq_length, tokenizer=tokenizer):\n",
    "  example = classifier_data_lib.InputExample(guid = None,\n",
    "                                            text_a = text.numpy(), \n",
    "                                            text_b = None, \n",
    "                                            label = label.numpy())\n",
    "  feature = classifier_data_lib.convert_single_example(0, example, label_list,\n",
    "                                    max_seq_length, tokenizer)\n",
    "  \n",
    "  return (feature.input_ids, feature.input_mask, feature.segment_ids, feature.label_id)"
   ]
  },
  {
   "cell_type": "markdown",
   "metadata": {
    "id": "A_HQSsHwWCsK"
   },
   "source": [
    "You want to use [`Dataset.map`](https://www.tensorflow.org/api_docs/python/tf/data/Dataset#map) to apply this function to each element of the dataset. [`Dataset.map`](https://www.tensorflow.org/api_docs/python/tf/data/Dataset#map) runs in graph mode.\n",
    "\n",
    "- Graph tensors do not have a value.\n",
    "- In graph mode you can only use TensorFlow Ops and functions.\n",
    "\n",
    "So you can't `.map` this function directly: You need to wrap it in a [`tf.py_function`](https://www.tensorflow.org/api_docs/python/tf/py_function). The [`tf.py_function`](https://www.tensorflow.org/api_docs/python/tf/py_function) will pass regular tensors (with a value and a `.numpy()` method to access it), to the wrapped python function."
   ]
  },
  {
   "cell_type": "markdown",
   "metadata": {
    "id": "zaNlkKVfWX0Q"
   },
   "source": [
    "## Task 7: Wrap a Python Function into a TensorFlow op for Eager Execution"
   ]
  },
  {
   "cell_type": "code",
   "execution_count": 12,
   "metadata": {
    "id": "AGACBcfCWC2O"
   },
   "outputs": [],
   "source": [
    "def to_feature_map(text, label):\n",
    "  input_ids, input_mask, segment_ids, label_id = tf.py_function(to_feature, inp=[text, label], \n",
    "                                Tout=[tf.int32, tf.int32, tf.int32, tf.int32])\n",
    "\n",
    "  # py_func doesn't set the shape of the returned tensors.\n",
    "  input_ids.set_shape([max_seq_length])\n",
    "  input_mask.set_shape([max_seq_length])\n",
    "  segment_ids.set_shape([max_seq_length])\n",
    "  label_id.set_shape([])\n",
    "\n",
    "  x = {\n",
    "        'input_word_ids': input_ids,\n",
    "        'input_mask': input_mask,\n",
    "        'input_type_ids': segment_ids\n",
    "    }\n",
    "  return (x, label_id)"
   ]
  },
  {
   "cell_type": "markdown",
   "metadata": {
    "id": "dhdO6MjTbtn1"
   },
   "source": [
    "## Task 8: Create a TensorFlow Input Pipeline with `tf.data`"
   ]
  },
  {
   "cell_type": "code",
   "execution_count": 13,
   "metadata": {
    "id": "LHRdiO3dnPNr"
   },
   "outputs": [],
   "source": [
    "with tf.device('/cpu:0'):\n",
    "  # train\n",
    "  train_data = (train_data.map(to_feature_map,\n",
    "                              num_parallel_calls=tf.data.experimental.AUTOTUNE)\n",
    "                          #.cache()\n",
    "                          .shuffle(1000)\n",
    "                          .batch(32, drop_remainder=True)\n",
    "                          .prefetch(tf.data.experimental.AUTOTUNE))\n",
    "\n",
    "  # valid\n",
    "  valid_data = (valid_data.map(to_feature_map,\n",
    "                            num_parallel_calls=tf.data.experimental.AUTOTUNE)\n",
    "                          .batch(32, drop_remainder=True)\n",
    "                          .prefetch(tf.data.experimental.AUTOTUNE)) "
   ]
  },
  {
   "cell_type": "markdown",
   "metadata": {
    "id": "KLUWnfx-YDi2"
   },
   "source": [
    "The resulting `tf.data.Datasets` return `(features, labels)` pairs, as expected by [`keras.Model.fit`](https://www.tensorflow.org/api_docs/python/tf/keras/Model#fit):"
   ]
  },
  {
   "cell_type": "code",
   "execution_count": 14,
   "metadata": {
    "colab": {
     "base_uri": "https://localhost:8080/"
    },
    "id": "B0Z2cy9GHQ8x",
    "outputId": "140573cd-7627-4516-c0e7-054db835542d"
   },
   "outputs": [
    {
     "data": {
      "text/plain": [
       "({'input_mask': TensorSpec(shape=(32, 128), dtype=tf.int32, name=None),\n",
       "  'input_type_ids': TensorSpec(shape=(32, 128), dtype=tf.int32, name=None),\n",
       "  'input_word_ids': TensorSpec(shape=(32, 128), dtype=tf.int32, name=None)},\n",
       " TensorSpec(shape=(32,), dtype=tf.int32, name=None))"
      ]
     },
     "execution_count": 14,
     "metadata": {
      "tags": []
     },
     "output_type": "execute_result"
    }
   ],
   "source": [
    "# train data spec\n",
    "train_data.element_spec"
   ]
  },
  {
   "cell_type": "code",
   "execution_count": 15,
   "metadata": {
    "colab": {
     "base_uri": "https://localhost:8080/"
    },
    "id": "DGAH-ycYOmao",
    "outputId": "02ea247d-dace-4ab7-ed42-207da873d315"
   },
   "outputs": [
    {
     "data": {
      "text/plain": [
       "({'input_mask': TensorSpec(shape=(32, 128), dtype=tf.int32, name=None),\n",
       "  'input_type_ids': TensorSpec(shape=(32, 128), dtype=tf.int32, name=None),\n",
       "  'input_word_ids': TensorSpec(shape=(32, 128), dtype=tf.int32, name=None)},\n",
       " TensorSpec(shape=(32,), dtype=tf.int32, name=None))"
      ]
     },
     "execution_count": 15,
     "metadata": {
      "tags": []
     },
     "output_type": "execute_result"
    }
   ],
   "source": [
    "# valid data spec\n",
    "valid_data.element_spec"
   ]
  },
  {
   "cell_type": "markdown",
   "metadata": {
    "id": "GZxe-7yhPyQe"
   },
   "source": [
    "## Task 9: Add a Classification Head to the BERT Layer"
   ]
  },
  {
   "cell_type": "markdown",
   "metadata": {
    "id": "9THH5V0Dw2HO"
   },
   "source": [
    "<div align=\"center\">\n",
    "    <img width=\"512px\" src='https://drive.google.com/uc?id=1fnJTeJs5HUpz7nix-F9E6EZdgUflqyEu' />\n",
    "    <p style=\"text-align: center;color:gray\">Figure 3: BERT Layer</p>\n",
    "</div>"
   ]
  },
  {
   "cell_type": "code",
   "execution_count": 16,
   "metadata": {
    "id": "G9il4gtlADcp"
   },
   "outputs": [],
   "source": [
    "# Building the model\n",
    "def create_model():\n",
    "  input_word_ids = tf.keras.layers.Input(shape=(max_seq_length,), dtype=tf.int32,\n",
    "                                      name=\"input_word_ids\")\n",
    "  input_mask = tf.keras.layers.Input(shape=(max_seq_length,), dtype=tf.int32,\n",
    "                                  name=\"input_mask\")\n",
    "  input_type_ids = tf.keras.layers.Input(shape=(max_seq_length,), dtype=tf.int32,\n",
    "                                  name=\"input_type_ids\")\n",
    "\n",
    "  pooled_output, sequence_output = bert_layer([input_word_ids, input_mask, input_type_ids])\n",
    "\n",
    "  drop = tf.keras.layers.Dropout(0.4)(pooled_output)\n",
    "  output = tf.keras.layers.Dense(1, activation=\"sigmoid\", name=\"output\")(drop)\n",
    "\n",
    "  model = tf.keras.Model(\n",
    "    inputs={\n",
    "        'input_word_ids': input_word_ids,\n",
    "        'input_mask': input_mask,\n",
    "        'input_type_ids': input_type_ids\n",
    "    },\n",
    "    outputs=output)\n",
    "  return model"
   ]
  },
  {
   "cell_type": "markdown",
   "metadata": {
    "id": "S6maM-vr7YaJ"
   },
   "source": [
    "## Task 10: Fine-Tune BERT for Text Classification"
   ]
  },
  {
   "cell_type": "code",
   "execution_count": 18,
   "metadata": {
    "colab": {
     "base_uri": "https://localhost:8080/"
    },
    "id": "ptCtiiONsBgo",
    "outputId": "d6ca89bc-5e33-429e-a930-771c8a8e7226"
   },
   "outputs": [
    {
     "name": "stdout",
     "output_type": "stream",
     "text": [
      "Model: \"functional_1\"\n",
      "__________________________________________________________________________________________________\n",
      "Layer (type)                    Output Shape         Param #     Connected to                     \n",
      "==================================================================================================\n",
      "input_word_ids (InputLayer)     [(None, 128)]        0                                            \n",
      "__________________________________________________________________________________________________\n",
      "input_mask (InputLayer)         [(None, 128)]        0                                            \n",
      "__________________________________________________________________________________________________\n",
      "input_type_ids (InputLayer)     [(None, 128)]        0                                            \n",
      "__________________________________________________________________________________________________\n",
      "keras_layer (KerasLayer)        [(None, 768), (None, 109482241   input_word_ids[0][0]             \n",
      "                                                                 input_mask[0][0]                 \n",
      "                                                                 input_type_ids[0][0]             \n",
      "__________________________________________________________________________________________________\n",
      "dropout (Dropout)               (None, 768)          0           keras_layer[0][0]                \n",
      "__________________________________________________________________________________________________\n",
      "output (Dense)                  (None, 1)            769         dropout[0][0]                    \n",
      "==================================================================================================\n",
      "Total params: 109,483,010\n",
      "Trainable params: 109,483,009\n",
      "Non-trainable params: 1\n",
      "__________________________________________________________________________________________________\n"
     ]
    }
   ],
   "source": [
    "model = create_model()\n",
    "model.compile(optimizer=tf.keras.optimizers.Adam(learning_rate=2e-5),\n",
    "                     loss=tf.keras.losses.BinaryCrossentropy(),\n",
    "                     metrics=[tf.keras.metrics.BinaryAccuracy()])\n",
    "model.summary()"
   ]
  },
  {
   "cell_type": "code",
   "execution_count": 19,
   "metadata": {
    "colab": {
     "base_uri": "https://localhost:8080/",
     "height": 338
    },
    "id": "6GJaFnkbMtPL",
    "outputId": "e5d641e8-7093-4d7d-ed83-eaf72f72bfd7"
   },
   "outputs": [
    {
     "data": {
      "image/png": "[encoded data removed]",
      "text/plain": [
       "<IPython.core.display.Image object>"
      ]
     },
     "execution_count": 19,
     "metadata": {
      "tags": []
     },
     "output_type": "execute_result"
    }
   ],
   "source": [
    "tf.keras.utils.plot_model(model=model,show_shapes=True,dpi=76)"
   ]
  },
  {
   "cell_type": "code",
   "execution_count": 21,
   "metadata": {
    "colab": {
     "base_uri": "https://localhost:8080/"
    },
    "id": "OcREcgPUHr9O",
    "outputId": "ba982178-e5e7-4d1c-d1b9-446ac7299c03"
   },
   "outputs": [
    {
     "name": "stdout",
     "output_type": "stream",
     "text": [
      "Epoch 1/4\n",
      "306/306 [==============================] - ETA: 0s - loss: 0.1665 - binary_accuracy: 0.9403WARNING:tensorflow:Callbacks method `on_test_batch_end` is slow compared to the batch time (batch time: 0.0211s vs `on_test_batch_end` time: 0.2700s). Check your callbacks.\n"
     ]
    },
    {
     "name": "stderr",
     "output_type": "stream",
     "text": [
      "WARNING:tensorflow:Callbacks method `on_test_batch_end` is slow compared to the batch time (batch time: 0.0211s vs `on_test_batch_end` time: 0.2700s). Check your callbacks.\n"
     ]
    },
    {
     "name": "stdout",
     "output_type": "stream",
     "text": [
      "\b\b\b\b\b\b\b\b\b\b\b\b\b\b\b\b\b\b\b\b\b\b\b\b\b\b\b\b\b\b\b\b\b\b\b\b\b\b\b\b\b\b\b\b\b\b\b\b\b\b\b\b\b\b\b\b\b\b\b\b\b\b\b\b\b\b\b\b\b\b\b\b\b\b\b\b\b\b\b\b\b\b\b\b\b\b\b\b\b\b\b\r",
      "306/306 [==============================] - 266s 870ms/step - loss: 0.1665 - binary_accuracy: 0.9403 - val_loss: 0.1142 - val_binary_accuracy: 0.9531\n",
      "Epoch 2/4\n",
      "306/306 [==============================] - 265s 865ms/step - loss: 0.0934 - binary_accuracy: 0.9643 - val_loss: 0.1279 - val_binary_accuracy: 0.9531\n",
      "Epoch 3/4\n",
      "306/306 [==============================] - 265s 866ms/step - loss: 0.0488 - binary_accuracy: 0.9828 - val_loss: 0.1832 - val_binary_accuracy: 0.9552\n",
      "Epoch 4/4\n",
      "306/306 [==============================] - 265s 865ms/step - loss: 0.0209 - binary_accuracy: 0.9925 - val_loss: 0.2300 - val_binary_accuracy: 0.9500\n"
     ]
    }
   ],
   "source": [
    "# Train model\n",
    "epochs=4\n",
    "history = model.fit(train_data,\n",
    "                    validation_data=valid_data,\n",
    "                    epochs=epochs,\n",
    "                    verbose=1)"
   ]
  },
  {
   "cell_type": "markdown",
   "metadata": {
    "id": "kNZl1lx_cA5Y"
   },
   "source": [
    "## Task 11: Evaluate the BERT Text Classification Model"
   ]
  },
  {
   "cell_type": "code",
   "execution_count": 22,
   "metadata": {
    "id": "dCjgrUYH_IsE"
   },
   "outputs": [],
   "source": [
    "import matplotlib.pyplot as plt\n",
    "\n",
    "def plot_graphs(history, metric):\n",
    "  plt.plot(history.history[metric])\n",
    "  plt.plot(history.history['val_'+metric], '')\n",
    "  plt.xlabel(\"Epochs\")\n",
    "  plt.ylabel(metric)\n",
    "  plt.legend([metric, 'val_'+metric])\n",
    "  plt.show()"
   ]
  },
  {
   "cell_type": "code",
   "execution_count": 23,
   "metadata": {
    "colab": {
     "base_uri": "https://localhost:8080/",
     "height": 279
    },
    "id": "v6lrFRra_KmA",
    "outputId": "b26dc6ef-795c-4d8e-ddf3-4ac6570c11b0"
   },
   "outputs": [
    {
     "data": {
      "image/png": "[encoded data removed]",
      "text/plain": [
       "<Figure size 432x288 with 1 Axes>"
      ]
     },
     "metadata": {
      "needs_background": "light",
      "tags": []
     },
     "output_type": "display_data"
    }
   ],
   "source": [
    "plot_graphs(history,'loss')"
   ]
  },
  {
   "cell_type": "code",
   "execution_count": 24,
   "metadata": {
    "colab": {
     "base_uri": "https://localhost:8080/",
     "height": 279
    },
    "id": "opu9neBA_98R",
    "outputId": "5f1b4c00-8052-42df-995a-b7b68de9192d"
   },
   "outputs": [
    {
     "data": {
      "image/png": "[encoded data removed]",
      "text/plain": [
       "<Figure size 432x288 with 1 Axes>"
      ]
     },
     "metadata": {
      "needs_background": "light",
      "tags": []
     },
     "output_type": "display_data"
    }
   ],
   "source": [
    "plot_graphs(history,'binary_accuracy')"
   ]
  },
  {
   "cell_type": "code",
   "execution_count": 29,
   "metadata": {
    "id": "K4B8NQBLd9rN"
   },
   "outputs": [],
   "source": [
    "sample_example = [\"Are Americans Idiots?\",\\\n",
    "                  \"Why are Indians Brown?\",\\\n",
    "                  \"Is trump retarded?\",\\\n",
    "                  \"Why is United Kingdom is the worst place?\",\\\n",
    "                  \"Why is Messi the GOAT?\",\n",
    "                  ]\n",
    "test_data = tf.data.Dataset.from_tensor_slices((sample_example, [0]*len(sample_example)))\n",
    "test_data = (test_data.map(to_feature_map).batch(1))\n",
    "preds = model.predict(test_data)\n",
    "#['Toxic' if pred >=0.5 else 'Sincere' for pred in preds]"
   ]
  },
  {
   "cell_type": "code",
   "execution_count": 30,
   "metadata": {
    "colab": {
     "base_uri": "https://localhost:8080/"
    },
    "id": "FeVNOGfFJT9O",
    "outputId": "0573effc-5a33-4ebe-8c18-bfcad67f57ea"
   },
   "outputs": [
    {
     "data": {
      "text/plain": [
       "array([[0.9958546 ],\n",
       "       [0.9976781 ],\n",
       "       [0.9798202 ],\n",
       "       [0.00239798],\n",
       "       [0.32768732]], dtype=float32)"
      ]
     },
     "execution_count": 30,
     "metadata": {
      "tags": []
     },
     "output_type": "execute_result"
    }
   ],
   "source": [
    "preds"
   ]
  },
  {
   "cell_type": "code",
   "execution_count": 31,
   "metadata": {
    "colab": {
     "base_uri": "https://localhost:8080/"
    },
    "id": "I_YWudFRJT__",
    "outputId": "427596aa-ccd2-492a-af28-026db549d418"
   },
   "outputs": [
    {
     "data": {
      "text/plain": [
       "['Toxic', 'Toxic', 'Toxic', 'Sincere', 'Sincere']"
      ]
     },
     "execution_count": 31,
     "metadata": {
      "tags": []
     },
     "output_type": "execute_result"
    }
   ],
   "source": [
    "['Toxic' if pred >=0.5 else 'Sincere' for pred in preds]"
   ]
  },
  {
   "cell_type": "code",
   "execution_count": null,
   "metadata": {
    "id": "hENB__IlJUCk"
   },
   "outputs": [],
   "source": []
  },
  {
   "cell_type": "code",
   "execution_count": null,
   "metadata": {
    "id": "wkYpiGrhJUFK"
   },
   "outputs": [],
   "source": []
  },
  {
   "cell_type": "code",
   "execution_count": null,
   "metadata": {
    "id": "iYqbQZJnJUHw"
   },
   "outputs": [],
   "source": []
  },
  {
   "cell_type": "code",
   "execution_count": null,
   "metadata": {
    "id": "aiKuBGgfJUKv"
   },
   "outputs": [],
   "source": []
  }
 ],
 "metadata": {
  "accelerator": "GPU",
  "colab": {
   "collapsed_sections": [],
   "machine_shape": "hm",
   "name": "Fine-Tune-BERT-for-Text-Classification-with-TensorFlow.ipynb",
   "provenance": []
  },
  "kernelspec": {
   "display_name": "Python 3",
   "language": "python",
   "name": "python3"
  },
  "language_info": {
   "codemirror_mode": {
    "name": "ipython",
    "version": 3
   },
   "file_extension": ".py",
   "mimetype": "text/x-python",
   "name": "python",
   "nbconvert_exporter": "python",
   "pygments_lexer": "ipython3",
   "version": "3.7.6"
  }
 },
 "nbformat": 4,
 "nbformat_minor": 1
}
